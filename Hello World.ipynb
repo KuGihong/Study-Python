{
 "cells": [
  {
   "cell_type": "code",
   "execution_count": 1,
   "id": "62d8ef1a",
   "metadata": {},
   "outputs": [
    {
     "name": "stdout",
     "output_type": "stream",
     "text": [
      "Hello world\n"
     ]
    }
   ],
   "source": [
    "print('Hello world')"
   ]
  },
  {
   "cell_type": "markdown",
   "id": "ddc74c92",
   "metadata": {},
   "source": [
    "# Big Title\n",
    "\n",
    "## Midium Title\n",
    "\n",
    "### Small Title"
   ]
  },
  {
   "cell_type": "markdown",
   "id": "62aba5f9",
   "metadata": {},
   "source": [
    "### List without number\n",
    "\n",
    "* Item\n",
    "* Item\n",
    "\n",
    "### List with number\n",
    "\n",
    "1. Item\n",
    "2. Item"
   ]
  },
  {
   "cell_type": "markdown",
   "id": "c9a178c2",
   "metadata": {},
   "source": [
    "Italic : *Italic*\n",
    "\n",
    "Bold : **Bold**\n",
    "\n",
    "both : ***both***"
   ]
  },
  {
   "cell_type": "markdown",
   "id": "55913252",
   "metadata": {},
   "source": [
    "Normal Text\n",
    "\n",
    "> quote\n",
    "\n",
    "Normal Text"
   ]
  },
  {
   "cell_type": "markdown",
   "id": "84cb321d",
   "metadata": {},
   "source": [
    "```python\n",
    "\n",
    "def hello_world():\n",
    "    print('Hello World')\n",
    "\n",
    "```"
   ]
  },
  {
   "cell_type": "code",
   "execution_count": null,
   "id": "ecede125",
   "metadata": {},
   "outputs": [],
   "source": []
  }
 ],
 "metadata": {
  "kernelspec": {
   "display_name": "Python 3 (ipykernel)",
   "language": "python",
   "name": "python3"
  },
  "language_info": {
   "codemirror_mode": {
    "name": "ipython",
    "version": 3
   },
   "file_extension": ".py",
   "mimetype": "text/x-python",
   "name": "python",
   "nbconvert_exporter": "python",
   "pygments_lexer": "ipython3",
   "version": "3.8.10"
  }
 },
 "nbformat": 4,
 "nbformat_minor": 5
}
